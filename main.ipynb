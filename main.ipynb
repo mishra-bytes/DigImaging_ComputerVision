{
 "cells": [
  {
   "cell_type": "code",
   "execution_count": 2,
   "id": "fd578ab8",
   "metadata": {},
   "outputs": [],
   "source": [
    "import cv2\n",
    "import os\n",
    "\n",
    "def extract_frames(video_path, output_folder):\n",
    "    \"\"\"\n",
    "    Extracts frames from a video at variable rates based on the timestamp.\n",
    "    - 10 FPS for the beginning and end sections.\n",
    "    - 2 FPS for the middle section (50s to 3m 50s).\n",
    "\n",
    "    Args:\n",
    "        video_path (str): The full path to the input video file.\n",
    "        output_folder (str): The path to the folder where frames will be saved.\n",
    "    \"\"\"\n",
    "    # Create the output folder if it doesn't exist\n",
    "    if not os.path.exists(output_folder):\n",
    "        os.makedirs(output_folder)\n",
    "        print(f\"Created directory: {output_folder}\")\n",
    "\n",
    "    # Open the video file\n",
    "    video_capture = cv2.VideoCapture(video_path)\n",
    "    if not video_capture.isOpened():\n",
    "        print(f\"Error: Could not open video file at {video_path}\")\n",
    "        return\n",
    "\n",
    "    # --- NEW LOGIC FOR VARIABLE FRAME RATE ---\n",
    "    \n",
    "    # 1. Define time intervals and frame rates in seconds\n",
    "    slow_rate_start_sec = 50\n",
    "    slow_rate_end_sec = (3 * 60) + 50  # 3 minutes and 50 seconds is 230 seconds\n",
    "\n",
    "    # 2. Calculate the desired time interval between saved frames for each rate\n",
    "    interval_fast_rate = 1.0 / 10  # For 10 frames per second\n",
    "    interval_slow_rate = 1.0 / 2   # For 2 frames per second\n",
    "    \n",
    "    # 3. Variable to track the timestamp of the last saved frame\n",
    "    last_saved_timestamp_sec = -1  # Initialize to ensure the first frame is considered\n",
    "\n",
    "    print(\"Starting frame extraction with variable rates...\")\n",
    "    saved_frame_count = 0\n",
    "    \n",
    "    while True:\n",
    "        success, frame = video_capture.read()\n",
    "        if not success:\n",
    "            break\n",
    "\n",
    "        # Get the current timestamp of the frame in milliseconds and convert to seconds\n",
    "        current_timestamp_sec = video_capture.get(cv2.CAP_PROP_POS_MSEC) / 1000.0\n",
    "\n",
    "        # Determine which frame rate interval we should be using\n",
    "        if slow_rate_start_sec <= current_timestamp_sec <= slow_rate_end_sec:\n",
    "            # We are in the 2 FPS zone\n",
    "            target_interval = interval_slow_rate\n",
    "        else:\n",
    "            # We are in the 10 FPS zone\n",
    "            target_interval = interval_fast_rate\n",
    "\n",
    "        # Check if enough time has passed since the last frame was saved\n",
    "        if current_timestamp_sec >= last_saved_timestamp_sec + target_interval:\n",
    "            # Construct the output file name\n",
    "            frame_filename = os.path.join(output_folder, f\"frame_{saved_frame_count}.jpg\")\n",
    "            \n",
    "            # Save the current frame\n",
    "            cv2.imwrite(frame_filename, frame)\n",
    "            \n",
    "            # Update the last saved timestamp and count\n",
    "            last_saved_timestamp_sec = current_timestamp_sec\n",
    "            saved_frame_count += 1\n",
    "\n",
    "    # Release the video capture object\n",
    "    video_capture.release()\n",
    "    \n",
    "    print(f\"✅ Successfully extracted {saved_frame_count} frames to '{output_folder}'\")"
   ]
  },
  {
   "cell_type": "code",
   "execution_count": 3,
   "id": "000f1ac0",
   "metadata": {},
   "outputs": [
    {
     "name": "stdout",
     "output_type": "stream",
     "text": [
      "Created directory: extracted_frames\n",
      "Starting frame extraction with variable rates...\n",
      "✅ Successfully extracted 1258 frames to 'extracted_frames'\n"
     ]
    }
   ],
   "source": [
    "# 1. Set the path to your video file\n",
    "input_video_file = \"primary.avi\"  # <-- CHANGE THIS to your video file name\n",
    "\n",
    "# 2. Set the name for the output folder\n",
    "output_frames_folder = \"extracted_frames\"\n",
    "\n",
    "# 3. Call the function to start the extraction!\n",
    "extract_frames(input_video_file, output_frames_folder)"
   ]
  },
  {
   "cell_type": "code",
   "execution_count": null,
   "id": "24ce796e",
   "metadata": {},
   "outputs": [],
   "source": []
  }
 ],
 "metadata": {
  "kernelspec": {
   "display_name": "imdenv",
   "language": "python",
   "name": "python3"
  },
  "language_info": {
   "codemirror_mode": {
    "name": "ipython",
    "version": 3
   },
   "file_extension": ".py",
   "mimetype": "text/x-python",
   "name": "python",
   "nbconvert_exporter": "python",
   "pygments_lexer": "ipython3",
   "version": "3.12.10"
  }
 },
 "nbformat": 4,
 "nbformat_minor": 5
}
